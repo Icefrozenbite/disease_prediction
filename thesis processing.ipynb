{
 "cells": [
  {
   "cell_type": "code",
   "execution_count": 1,
   "metadata": {},
   "outputs": [],
   "source": [
    "import os, csv"
   ]
  },
  {
   "cell_type": "code",
   "execution_count": 2,
   "metadata": {},
   "outputs": [],
   "source": [
    "with open('full_thesis_data_no39.csv','a',encoding='utf-8') as final_file:\n",
    "    csv_write = csv.writer(final_file)\n",
    "    csv_head = [\"Disease\",\"Platform\",\"text\"]\n",
    "    csv_write.writerow(csv_head)\n",
    "    for root,dirs,files in os.walk('thesis'):\n",
    "        for file in files:\n",
    "            address = os.path.join(root,file)\n",
    "            disease = file.split('-')[0]\n",
    "            platform = file.split('-')[1]\n",
    "            if platform != '39':\n",
    "                with open(address,'r',encoding='utf-8') as doc:\n",
    "                    doc = doc.read()\n",
    "                    doc = doc.replace(' ','')\n",
    "                    doc = doc.replace('\\n','')\n",
    "                    to_write = [disease, platform, doc]\n",
    "                    csv_write.writerow(to_write)\n",
    "            \n",
    "            \n",
    "            \n",
    "\n"
   ]
  },
  {
   "cell_type": "code",
   "execution_count": null,
   "metadata": {},
   "outputs": [],
   "source": []
  }
 ],
 "metadata": {
  "kernelspec": {
   "display_name": "Python 3",
   "language": "python",
   "name": "python3"
  },
  "language_info": {
   "codemirror_mode": {
    "name": "ipython",
    "version": 3
   },
   "file_extension": ".py",
   "mimetype": "text/x-python",
   "name": "python",
   "nbconvert_exporter": "python",
   "pygments_lexer": "ipython3",
   "version": "3.7.1"
  }
 },
 "nbformat": 4,
 "nbformat_minor": 2
}
